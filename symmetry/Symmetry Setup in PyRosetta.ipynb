{
 "cells": [
  {
   "cell_type": "code",
   "execution_count": null,
   "metadata": {
    "collapsed": true
   },
   "outputs": [],
   "source": [
    "(c) Copyright Rosetta Commons Member Institutions.\n",
    "(c) This file is part of the Rosetta software suite and is made available under license.\n",
    "(c) The Rosetta software is developed by the contributing members of the Rosetta Commons.\n",
    "(c) For more information, see http://www.rosettacommons.org. Questions about this can be\n",
    "(c) addressed to University of Washington CoMotion, email: license@uw.edu."
   ]
  },
  {
   "cell_type": "markdown",
   "metadata": {},
   "source": [
    "##This Runs on the older Pyrosetta bindings\n",
    "---\n",
    "---\n",
    "\n",
    "## Running Symmetry without Perl !!!!!! Gasp!!!! Sacrilege!!!!!\n",
    "\n",
    "In order for Rosetta to model a symmetric protein and make use of the fancy time saving machinery it has, one must use the perl script written by Frank.... Some call it black magic, others call it a black box.\n",
    "\n",
    "A while back, thanks to Javier's efforts, he encoded some stuff so that you could *auto* detect Cn symmetries as a mover! This is awesome... but sometimes, for some proteins it just doesnt' work. Much of this code is to his credit though. The C++ dies on some proteins though, it has reasonable, hard coded cutoffs that just don't work for all proteins.\n",
    "\n",
    "This is an implementation a la Pyrosetta that will allow a researcher to simply upload a protein (which may have Cn) symmetry and after some math, will be able to call symmetric movers, score with symmetric scorefunctions and do sweet symmetry stuff.\n",
    "\n",
    "Note: This currently will not work for Dn symmetries (Until Stephanie figures that out ;) )\n",
    "\n",
    "Imagine you have a protein (say KIVD- who works on those anyways?) that has C2 symmetry and at the active site, there are catalytic residues from both chains. Suppose we wanted to design on a related sequence that doesn't have a crystal structures, then we would need to build a homology model. Unfortunately, homology modeling already takes a tremendous amount of compute resources that when you double the size of the protein 541\\*2, it simply takes forever. \n",
    "\n",
    "Fortunately, the homology modeling code (Yifan & Frank) takes a symmetry definition file.... like the ones that come from Franks perl script (make_symm_def_file.pl). However, when you create 1 symmetry definition file, the symmetry is static!  Why is this a problem for us? Well, say I am creating a homology model of a relative of 2vbg, and there are 10 available templates. Each template might have a different way of interacting with at the interface and if I ran each template through Frank's perl script, I would get 10 different answers (slightly different).\n",
    "\n",
    "So, because in the future I think homology modeling of symmetric interfaces should be able to A) use mutiple templates and B) be able to sample these different orientations and symmetries at the same time, I wrote this notebook. \n",
    "\n",
    "In the near future, imagine modeling symmetric interfaces and sample different interface and symmetry perturbations at interfaces... It might help us make better models\n"
   ]
  },
  {
   "cell_type": "markdown",
   "metadata": {},
   "source": [
    "## Setup the Functions and Maths needed for symmetry\n",
    "This essentially is a copy of some of the code in src/numeric/xyzfunctions.hh\n",
    "\n",
    "There are no bindings for these because they are multi templates, ideally there would be bindings for all core types (and std types)"
   ]
  },
  {
   "cell_type": "markdown",
   "metadata": {},
   "source": [
    "The following set of functions take an xyzVector and calculates the projections onto different x, y and z axis\n",
    "\n",
    "Note: In order for Rosetta's symmetry machinery to work, it assumes the center of mass of the Pose is at the origin (0,0,0). See the symmetry documentation for more details, or compare what happens here with what happens when you run the perl script (load the input files and the files that are created to be ran in rosetta)"
   ]
  },
  {
   "cell_type": "code",
   "execution_count": 28,
   "metadata": {
    "collapsed": false
   },
   "outputs": [],
   "source": [
    "# This is needed for some builds\n",
    "import rosetta\n",
    "import pyrosetta\n"
   ]
  },
  {
   "cell_type": "markdown",
   "metadata": {},
   "source": [
    "This next section copies other code, again mostly for the reason that there are no python bindings that interface with the c++ code correctly.\n",
    "\n",
    "These create rotation matrices when you input a degree of rotation in degrees"
   ]
  },
  {
   "cell_type": "code",
   "execution_count": 35,
   "metadata": {
    "collapsed": false
   },
   "outputs": [
    {
     "name": "stdout",
     "output_type": "stream",
     "text": [
      "made mat\n",
      "<rosetta.numeric.xyzMatrix_double_t object at 0x7f2035d17928>\n",
      "changed mat\n",
      "<rosetta.numeric.xyzMatrix_double_t object at 0x7f2035d17a40>\n",
      "<class 'rosetta.numeric.xyzMatrix_double_t'>\n"
     ]
    }
   ],
   "source": [
    "import math\n",
    "test = numeric.xyzMatrix_double_t()\n",
    "\n",
    "def x_rotation_matrix( theta ):\n",
    "    sin_theta = math.sin(theta)\n",
    "    cos_theta = math.cos(theta)\n",
    "    mat = numeric.xyzMatrix_double_t()\n",
    "    print \"made mat\"\n",
    "    print mat\n",
    "    \n",
    "    newmat = mat.rows( 1, 0, 0,\n",
    "            0, cos_theta, -sin_theta,\n",
    "             0, sin_theta, cos_theta\n",
    "            )\n",
    "    print \"changed mat\"\n",
    "    print newmat\n",
    "    return newmat\n",
    "    \n",
    "def x_rotation_matrix_degrees( theta ):\n",
    "    return x_rotation_matrix( math.radians(theta))\n",
    "\n",
    "def z_rotation_matrix( theta ):\n",
    "    sin_theta = math.sin(theta)\n",
    "    cos_theta = math.cos(theta)\n",
    "    mat = numeric.xyzMatrix_double_t()\n",
    "    mat = numeric.xyzMatrix_double_t()\n",
    "    print \"made mat\"\n",
    "    print mat\n",
    "    \n",
    "    newmat = mat.rows( cos_theta, -sin_theta, 0,\n",
    "            sin_theta, cos_theta, 0,\n",
    "             0, 0, 1\n",
    "            )\n",
    "    print \"changed mat\"\n",
    "    print newmat\n",
    "    return newmat\n",
    "    \n",
    "def z_rotation_matrix_degrees( theta ):\n",
    "    return z_rotation_matrix( math.radians(theta))\n",
    "\n",
    "def y_rotation_matrix( theta ):\n",
    "    sin_theta = math.sin(theta)\n",
    "    cos_theta = math.cos(theta)\n",
    "    mat = numeric.xyzMatrix_double_t()\n",
    "    print \"made mat\"\n",
    "    print mat\n",
    "    \n",
    "    newmat = mat.rows( cos_theta, 0 , sin_theta,\n",
    "            0, 1, 0,\n",
    "             -sin_theta, 0, cos_theta\n",
    "            )\n",
    "    print \"changed mat\"\n",
    "    print newmat\n",
    "    return newmat\n",
    "    \n",
    "def y_rotation_matrix_degrees( theta ):\n",
    "    return y_rotation_matrix( math.radians(theta))\n",
    "\n",
    "\n",
    "## This is an example\n",
    "f = x_rotation_matrix_degrees( 180 )\n",
    "print type(f)\n",
    "\n",
    "#numeric.xyz"
   ]
  },
  {
   "cell_type": "markdown",
   "metadata": {},
   "source": [
    "---\n",
    "---\n",
    "\n",
    "\n",
    "# Let's begin with rosetta\n",
    "\n",
    "I highly recommend that before you start, you also open Pymol & plot the xyz axes\n",
    "\n",
    "Once you can see the protein (see next few cells) be sure to clean up (cartoon and color by chain)"
   ]
  },
  {
   "cell_type": "code",
   "execution_count": null,
   "metadata": {
    "collapsed": true
   },
   "outputs": [],
   "source": [
    "from rosetta import *"
   ]
  },
  {
   "cell_type": "code",
   "execution_count": 9,
   "metadata": {
    "collapsed": false
   },
   "outputs": [
    {
     "name": "stdout",
     "output_type": "stream",
     "text": [
      "Found rosetta database at: /home/stephanie/anaconda2/envs/DebugPyrosetta/lib/python2.7/site-packages/pyrosetta-4.0-py2.7.egg/database; using it....\n",
      "PyRosetta-4 2016 [Rosetta 2016 unknown:9ea8e5e15e7c35838a32b8089ca8351ff540888c 2016-12-16 10:52:45 -0500] retrieved from: git@github.com:RosettaCommons/main.git\n",
      "(C) Copyright Rosetta Commons Member Institutions.\n",
      "Created in JHU by Sergey Lyskov and PyRosetta Team.\n",
      "\n"
     ]
    }
   ],
   "source": [
    "pyrosetta.init('-ignore_unrecognized_res T -ignore_waters T -preserve_header T -prevent_repacking T')"
   ]
  },
  {
   "cell_type": "code",
   "execution_count": 30,
   "metadata": {
    "collapsed": false
   },
   "outputs": [],
   "source": [
    "def tmalign( pose, ref_pose ):\n",
    "    \n",
    "    print 'Running tmalign on poses'\n",
    "    tm = rosetta.protocols.hybridization.TMalign()\n",
    "    tm.apply(pose, ref_pose)\n",
    "    longest = max(pose.total_residue()+1, ref_pose.total_residue()+1)\n",
    "    \n",
    "    print 'TMScore = %s ' %tm.TMscore(longest)\n",
    "    atommap =  rosetta.core.id.AtomID_Map_core_id_AtomID_t()\n",
    "    rosetta.core.pose.initialize_atomid_map_AtomID( atommap, pose )\n",
    "    tm.alignment2AtomMap( pose, ref_pose, atommap )\n",
    "    aln_cutoff = rosetta.utility.vector1_double()\n",
    "    for i in [2.0,1.5,1.0,0.5]:\n",
    "        aln_cutoff.append(i)\n",
    "    min_coverage = .2\n",
    "    rosetta.protocols.hybridization.partial_align(pose1,pose2, atommap, True, aln_cutoff, min_coverage)"
   ]
  },
  {
   "cell_type": "code",
   "execution_count": 10,
   "metadata": {
    "collapsed": false,
    "scrolled": false
   },
   "outputs": [
    {
     "data": {
      "text/plain": [
       "2343.720084716446"
      ]
     },
     "execution_count": 10,
     "metadata": {},
     "output_type": "execute_result"
    }
   ],
   "source": [
    "# Read in a pose and setup the pymol observer, you have to score it to get it into pymol\n",
    "\n",
    "p = pyrosetta.pose_from_file('2VBF_cleaned.pdb')\n",
    "pm = pyrosetta.PyMolMover()\n",
    "pm.keep_history(True)\n",
    "pm.apply(p)\n",
    "# pyobs = PyMOL_Observer() \n",
    "# pyobs.add_observer(p) \n",
    "sfxn = pyrosetta.get_fa_scorefxn()\n",
    "sfxn(p) \n"
   ]
  },
  {
   "cell_type": "markdown",
   "metadata": {},
   "source": [
    "Notice that the protein is not at the origin"
   ]
  },
  {
   "cell_type": "code",
   "execution_count": 11,
   "metadata": {
    "collapsed": false,
    "scrolled": true
   },
   "outputs": [
    {
     "name": "stdout",
     "output_type": "stream",
     "text": [
      "PDB file name: 2VBF_cleaned.pdb\n",
      "Total residues:1082\n",
      "Sequence: MYTVGDYLLDRLHELGIEEIFGVPGDYNLQFLDQIISREDMKWIGNANELNASYMADGYARTKKAAAFLTTFGVGELSAINGLAGSYAENLPVVEIVGSPTSKVQNDGKFVHHTLADGDFKHFMKMHEPVTAARTLLTAENATYEIDRVLSQLLKERKPVYINLPVDVAAAKAEKPALSLENTTEQVILSKIEESLKNAQKPVVIAGHEVISFGLEKTVTQFVSETKLPITTLNFGKSAVDESLPSFLGIYNGKLSEISLKNFVESADFILMLGVKLTDSSTGAFTHHLDENKMISLNIDEGIIFNKVVEDFDFRAVVSSLSELKGIEYEGQYIDKQYEEFIPSSAPLSQDRLWQAVESLTQSNETIVAEQGTSFFGASTIFLKSNSRFIGQPLWGSIGYTFPAALGSQIADKESRHLLFIGDGSLQLTVQELGLSIREKLNPICFIINNDGYTVEREIHGPTQSYNDIPMWNYSKLPETFGATEDRVVSKIVRTENEFVSVMKEAQADVNRMYWIELVLEKEDAPKLLKKMGKLFAEQNKMYTVGDYLLDRLHELGIEEIFGVPGDYNLQFLDQIISREDMKWIGNANELNASYMADGYARTKKAAAFLTTFGVGELSAINGLAGSYAENLPVVEIVGSPTSKVQNDGKFVHHTLADGDFKHFMKMHEPVTAARTLLTAENATYEIDRVLSQLLKERKPVYINLPVDVAAAKAEKPALSLENTTEQVILSKIEESLKNAQKPVVIAGHEVISFGLEKTVTQFVSETKLPITTLNFGKSAVDESLPSFLGIYNGKLSEISLKNFVESADFILMLGVKLTDSSTGAFTHHLDENKMISLNIDEGIIFNKVVEDFDFRAVVSSLSELKGIEYEGQYIDKQYEEFIPSSAPLSQDRLWQAVESLTQSNETIVAEQGTSFFGASTIFLKSNSRFIGQPLWGSIGYTFPAALGSQIADKESRHLLFIGDGSLQLTVQELGLSIREKLNPICFIINNDGYTVEREIHGPTQSYNDIPMWNYSKLPETFGATEDRVVSKIVRTENEFVSVMKEAQADVNRMYWIELVLEKEDAPKLLKKMGKLFAEQNK\n",
      "Fold tree:\n",
      "FOLD_TREE  EDGE 1 181 -1  EDGE 1 182 1  EDGE 182 541 -1  EDGE 1 542 2  EDGE 542 722 -1  EDGE 1 723 3  EDGE 723 1082 -1 \n",
      "vector1_unsigned_long[181, 541, 722]\n",
      "MYTVGDYLLDRLHELGIEEIFGVPGDYNLQFLDQIISREDMKWIGNANELNASYMADGYARTKKAAAFLTTFGVGELSAINGLAGSYAENLPVVEIVGSPTSKVQNDGKFVHHTLADGDFKHFMKMHEPVTAARTLLTAENATYEIDRVLSQLLKERKPVYINLPVDVAAAKAEKPALSLENTTEQVILSKIEESLKNAQKPVVIAGHEVISFGLEKTVTQFVSETKLPITTLNFGKSAVDESLPSFLGIYNGKLSEISLKNFVESADFILMLGVKLTDSSTGAFTHHLDENKMISLNIDEGIIFNKVVEDFDFRAVVSSLSELKGIEYEGQYIDKQYEEFIPSSAPLSQDRLWQAVESLTQSNETIVAEQGTSFFGASTIFLKSNSRFIGQPLWGSIGYTFPAALGSQIADKESRHLLFIGDGSLQLTVQELGLSIREKLNPICFIINNDGYTVEREIHGPTQSYNDIPMWNYSKLPETFGATEDRVVSKIVRTENEFVSVMKEAQADVNRMYWIELVLEKEDAPKLLKKMGKLFAEQNK\n",
      "vector1_unsigned_long[541]\n"
     ]
    }
   ],
   "source": [
    "## Take a look at your protein and the wierd chain endings\n",
    "print p\n",
    "print p.conformation().chain_endings()\n",
    "\n",
    "# Fix the weird chain endings (so that later, we can create a nice foldtree)\n",
    "p.update_pose_chains_from_pdb_chains()\n",
    "print p.chain_sequence(1)\n",
    "print p.conformation().chain_endings()"
   ]
  },
  {
   "cell_type": "code",
   "execution_count": 13,
   "metadata": {
    "collapsed": false
   },
   "outputs": [
    {
     "name": "stdout",
     "output_type": "stream",
     "text": [
      "541\n",
      "PDB file name: \n",
      "Total residues:541\n",
      "Sequence: MYTVGDYLLDRLHELGIEEIFGVPGDYNLQFLDQIISREDMKWIGNANELNASYMADGYARTKKAAAFLTTFGVGELSAINGLAGSYAENLPVVEIVGSPTSKVQNDGKFVHHTLADGDFKHFMKMHEPVTAARTLLTAENATYEIDRVLSQLLKERKPVYINLPVDVAAAKAEKPALSLENTTEQVILSKIEESLKNAQKPVVIAGHEVISFGLEKTVTQFVSETKLPITTLNFGKSAVDESLPSFLGIYNGKLSEISLKNFVESADFILMLGVKLTDSSTGAFTHHLDENKMISLNIDEGIIFNKVVEDFDFRAVVSSLSELKGIEYEGQYIDKQYEEFIPSSAPLSQDRLWQAVESLTQSNETIVAEQGTSFFGASTIFLKSNSRFIGQPLWGSIGYTFPAALGSQIADKESRHLLFIGDGSLQLTVQELGLSIREKLNPICFIINNDGYTVEREIHGPTQSYNDIPMWNYSKLPETFGATEDRVVSKIVRTENEFVSVMKEAQADVNRMYWIELVLEKEDAPKLLKKMGKLFAEQNK\n",
      "Fold tree:\n",
      "FOLD_TREE  EDGE 1 541 -1 \n"
     ]
    }
   ],
   "source": [
    "#### Now starts the pyrosetta implementation of DetectSymmetry:apply\n",
    "## We might be able to skip this if we can pull the data from the mmcif pdb file or if\n",
    "## we know a priori what kind of symmetry exists in the family of proteins we want to model\n",
    "n_jumps = p.num_jump()\n",
    "symmetric_type = n_jumps +1\n",
    "seq1 = p.chain_sequence(1)\n",
    "#pose made from chain A seq\n",
    "print len(seq1)\n",
    "new_pose = rosetta.core.pose.Pose(p, 1, len(seq1))\n",
    "print new_pose"
   ]
  },
  {
   "cell_type": "code",
   "execution_count": 15,
   "metadata": {
    "collapsed": false
   },
   "outputs": [
    {
     "name": "stdout",
     "output_type": "stream",
     "text": [
      "0.374408006668\n",
      "nan\n",
      "nan\n"
     ]
    }
   ],
   "source": [
    "## This goes through each of the subunits (different chains) and calculates the rms of the chain A\n",
    "## to chain X, this is to make sure all of the 'symmetric' chains are actually symmetric\n",
    "\n",
    "i = 1\n",
    "while i != symmetric_type:\n",
    "    #i +=1\n",
    "    if len(seq1) != len(p.chain_sequence(2)):\n",
    "        print \"Subunits have different length sequences\"\n",
    "    \n",
    "    test_pose = rosetta.core.pose.Pose(p, i*len(seq1)+1,(i+1)*len(seq1))\n",
    "    rms = rosetta.core.scoring.CA_rmsd(new_pose,test_pose)\n",
    "    print rms\n",
    "    i +=1"
   ]
  },
  {
   "cell_type": "markdown",
   "metadata": {},
   "source": [
    "The next few cells first move the input protein to the origin (COM). But then the next few apply rotations that align the COM of each chain with the XY, XZ and YZ planes"
   ]
  },
  {
   "cell_type": "code",
   "execution_count": 25,
   "metadata": {
    "collapsed": false,
    "scrolled": true
   },
   "outputs": [
    {
     "name": "stdout",
     "output_type": "stream",
     "text": [
      "starting cm\n",
      "  3.652859489524545E-16   1.031009330077040E-15  -6.566938408134013E-18\n",
      "<rosetta.numeric.xyzMatrix_double_t object at 0x7f2035d17110>\n",
      "newcom\n",
      "  3.513312048351697E-16   1.027725860872973E-15  -6.566938408134013E-18\n"
     ]
    }
   ],
   "source": [
    "### This first move moves the proteins COM to the origin (0,0,0)\n",
    "#id_rot_mat = numeric.xyzMatrix_Real.identity()\n",
    "#numeric.xyz\n",
    "id_rot_mat = numeric.xyzMatrix_double_t.identity()\n",
    "cm_pose = rosetta.core.pose.center_of_mass(p,1,p.total_residue())\n",
    "print \"starting cm\"\n",
    "print cm_pose\n",
    "# print type(cm_pose)\n",
    "# print type(id_rot_mat)\n",
    "## So this is just applying the negative of the com to the pose (so a origin placement)\n",
    "p.apply_transform_Rx_plus_v(id_rot_mat, cm_pose.negate())\n",
    "cm_pose.negate()\n",
    "print id_rot_mat\n",
    "#sfxn(p)\n",
    "print \"newcom\"\n",
    "newcom = rosetta.core.pose.center_of_mass(p,1,p.total_residue())\n",
    "print newcom"
   ]
  },
  {
   "cell_type": "code",
   "execution_count": 33,
   "metadata": {
    "collapsed": false
   },
   "outputs": [
    {
     "name": "stdout",
     "output_type": "stream",
     "text": [
      "made mat\n",
      "<rosetta.numeric.xyzMatrix_double_t object at 0x7f2035d17880>\n",
      "changed mat\n",
      "<rosetta.numeric.xyzMatrix_double_t object at 0x7f2035d17420>\n",
      "  3.513312048351697E-16   8.029723938545863E-15  -1.083544837342112E-15\n",
      "plane tolerance: \n",
      "-1.08354483734e-15\n",
      "pass plane check x\n"
     ]
    }
   ],
   "source": [
    "from rosetta.protocols.rigid import *\n",
    "from rosetta.core.pose.symmetry import *\n",
    "from rosetta.numeric import *\n",
    "import rosetta.numeric as numeric\n",
    "\n",
    "## turns out i need some private inline functions\n",
    "#\tinline core::Real angle_with_x_axis_proj_y( xyzVector const & v) const { return numeric::dihedral_degrees(xyzVector(v[0],1,v[2]), xyzVector(0,1,0), xyzVector(0,0,0), xyzVector(1,0,0)); }\n",
    "def angle_with_x_axis_proj_y( some_xyzVector ):\n",
    "    return numeric.dihedral_degrees_double_t( numeric.xyzVector_double_t ( some_xyzVector[0],1,some_xyzVector[2]), numeric.xyzVector_double_t(0,1,0), numeric.xyzVector_double_t( 0,0,0 ), numeric.xyzVector_double_t( 1,0,0 ) )\n",
    "\n",
    "def angle_with_y_axis_proj_x( some_xyzVector ):\n",
    "    return numeric.dihedral_degrees_double_t( numeric.xyzVector_double_t( 1,some_xyzVector[1],some_xyzVector[2]), numeric.xyzVector_double_t(1,0,0), numeric.xyzVector_double_t( 0,0,0 ), numeric.xyzVector_double_t( 0,1,0 ) )\n",
    "\n",
    "def angle_with_y_axis_proj_z( some_xyzVector ):\n",
    "    return numeric.dihedral_degrees_double_t( numeric.xyzVector_double_t( some_xyzVector[0],some_xyzVector[1],1), numeric.xyzVector_double_t(0,0,1), numeric.xyzVector_double_t( 0,0,0 ), numeric.xyzVector_double_t( 0,1,0 ) )\n",
    "\n",
    "def angle_with_z_axis_proj_y( some_xyzVector ):\n",
    "    return numeric.dihedral_degrees_double_t( numeric.xyzVector_double_t( some_xyzVector[0],1,some_xyzVector[2]), numeric.xyzVector_double_t(0,1,0), numeric.xyzVector_double_t( 0,0,0 ), numeric.xyzVector_double_t( 0,0,1 ) )\n",
    "\n",
    "\n",
    "\n",
    "## align the com of chain A with Y axis\n",
    "#first, rotate around x to align com of chain A with xy plane\n",
    "cm_chain_A = rosetta.core.pose.center_of_mass(p,1,len(seq1))\n",
    "angle_y1 = angle_with_y_axis_proj_x( cm_chain_A )\n",
    "x_rot = x_rotation_matrix_degrees( -1*angle_y1 )\n",
    "p.apply_transform_Rx_plus_v( x_rot, numeric.xyzVector_double_t(0,0,0))\n",
    "new_cm_chain_A = rosetta.core.pose.center_of_mass(p,1,p.total_residue())\n",
    "print new_cm_chain_A\n",
    "print \"plane tolerance: \"\n",
    "print new_cm_chain_A[2]\n",
    "if (new_cm_chain_A[2] > -1*0.05) and (new_cm_chain_A[2] < .05):\n",
    "    print \"pass plane check x\"\n",
    "#sfxn(p)\n"
   ]
  },
  {
   "cell_type": "code",
   "execution_count": 37,
   "metadata": {
    "collapsed": false
   },
   "outputs": [
    {
     "name": "stdout",
     "output_type": "stream",
     "text": [
      "made mat\n",
      "<rosetta.numeric.xyzMatrix_double_t object at 0x7f2035d17ce0>\n",
      "changed mat\n",
      "<rosetta.numeric.xyzMatrix_double_t object at 0x7f203640d650>\n",
      "-1.08354483734e-15\n",
      "pass plane check z\n"
     ]
    }
   ],
   "source": [
    " ## now rotat along Z axis   \n",
    "angle_y2 = angle_with_y_axis_proj_z(  new_cm_chain_A )\n",
    "z_rot = z_rotation_matrix_degrees( -1*angle_y2)\n",
    "p.apply_transform_Rx_plus_v( z_rot, numeric.xyzVector_double_t(0,0,0))\n",
    "new2_cm_chain_A = rosetta.core.pose.center_of_mass(p,1,p.total_residue())\n",
    "print new2_cm_chain_A[2]\n",
    "if (new2_cm_chain_A[2] > -1*0.05) and (new2_cm_chain_A[2] < .05):\n",
    "    print \"pass plane check z\"\n"
   ]
  },
  {
   "cell_type": "markdown",
   "metadata": {},
   "source": [
    "Note now that the protein is centered over the origin, and has undergone some rotations\n",
    "\n",
    "This next cell is just a sanity check that the com of the chain B is also near 0"
   ]
  },
  {
   "cell_type": "code",
   "execution_count": 38,
   "metadata": {
    "collapsed": false
   },
   "outputs": [
    {
     "name": "stdout",
     "output_type": "stream",
     "text": [
      "Chain B\n",
      "-4.85953442202e-16\n"
     ]
    }
   ],
   "source": [
    "## now check the other chain's com\n",
    "i = 1\n",
    "cm_chain = rosetta.core.pose.center_of_mass(p, i*len(seq1)+1,(i+1)*len(seq1))\n",
    "print \"Chain B\"\n",
    "print cm_chain[2]"
   ]
  },
  {
   "cell_type": "code",
   "execution_count": 56,
   "metadata": {
    "collapsed": false,
    "scrolled": false
   },
   "outputs": [
    {
     "name": "stdout",
     "output_type": "stream",
     "text": [
      "made mat\n",
      "<rosetta.numeric.xyzMatrix_double_t object at 0x7f2035ddff10>\n",
      "changed mat\n",
      "<rosetta.numeric.xyzMatrix_double_t object at 0x7f2035ddfb20>\n",
      "0.0\n",
      "<rosetta.numeric.xyzMatrix_double_t object at 0x7f2035ddfb20>\n",
      "------------------------------\n",
      "     -36.34637252436451       4.082909810076414       6.598750987474515\n",
      "      36.34637252436451       3.706966120699662       7.015905183063775\n",
      "      0.000000000000000       3.894937965388038       6.807328085269145\n",
      "This should be less than .001\n",
      "0.0\n",
      "This too \n",
      "3.89493796539\n",
      "------------------------------\n",
      "      0.000000000000000       3.894937965388038       6.807328085269145\n"
     ]
    }
   ],
   "source": [
    "## Now perform C2 check plus one last rotation\n",
    "# print p.residue(1).xyz(\"CA\")\n",
    "# print p.residue(len(seq1)+1).xyz(\"CA\")\n",
    "\n",
    "vm_old = ( p.residue(1).xyz(\"CA\") + p.residue(len(seq1)+1).xyz(\"CA\")) #/2.0\n",
    "vm = rosetta.numeric.xyzVector_double_t(vm_old.x/2,vm_old.y/2,vm_old.z/2)\n",
    "#print vm\n",
    "# vm.x/2\n",
    "# vm.y/2\n",
    "# vm.z/2\n",
    "#print type(vm)\n",
    "# print vm \n",
    "angle_z_axis = angle_with_z_axis_proj_y( vm )\n",
    "rot1 = y_rotation_matrix_degrees( -1*angle_z_axis )\n",
    "print angle_z_axis \n",
    "print rot1 \n",
    "print '-'*30\n",
    "p.apply_transform_Rx_plus_v( rot1, numeric.xyzVector_double_t(0,0,0))\n",
    "\n",
    "print p.residue(1).xyz(\"CA\")\n",
    "print p.residue(len(seq1)+1).xyz(\"CA\")\n",
    "\n",
    "vm_new_old = ( p.residue(1).xyz(\"CA\") + p.residue(len(seq1)+1).xyz(\"CA\"))\n",
    "vm_new = rosetta.numeric.xyzVector_double_t(vm_new_old.x/2,vm_new_old.y/2,vm_new_old.z/2) #/2\n",
    "print vm_new\n",
    "\n",
    "print \"This should be less than .001\"\n",
    "print vm_new[0]\n",
    "print \"This too \"\n",
    "print vm_new[1]\n",
    "\n",
    "print '-'*30\n",
    "print vm_new\n",
    "#pm.apply(p)"
   ]
  },
  {
   "cell_type": "code",
   "execution_count": 59,
   "metadata": {
    "collapsed": false,
    "scrolled": true
   },
   "outputs": [],
   "source": [
    "# Now, since the protein is in the right place, we just make a copy of the chain A\n",
    "alignpose = rosetta.core.pose.Pose(p,1,len(seq1))\n",
    "pm.apply(alignpose)"
   ]
  },
  {
   "cell_type": "code",
   "execution_count": null,
   "metadata": {
    "collapsed": false
   },
   "outputs": [],
   "source": [
    "# here, we read in the generic sym files in the Rosetta database\n",
    "# We can use ChainA and the symdef information to create a symmetric pose!\n",
    "from rosetta.basic import *\n",
    "from rosetta.core.conformation.symmetry import *\n",
    "\n",
    "c2_symm = 'C2_Z.sym'\n",
    "# the sym file is usually located at the below path\n",
    "#c2_symm = '~/Rosetta/main/database/symmetry/cyclic/C2_Z.sym'\n",
    "symdef = core.conformation.symmetry.SymmData()\n",
    "symdef.read_symmetry_data_from_file( c2_symm )\n",
    "\n",
    "#p = \n",
    "core.pose.symmetry.make_symmetric_pose( alignpose, symdef )\n",
    "p = alignpose"
   ]
  },
  {
   "cell_type": "markdown",
   "metadata": {},
   "source": [
    "##\n",
    "Wells, that's it!\n",
    "\n",
    "You should have seen a bunch of symmetry stuff flash on the screen\n",
    "We now have a pose inside of rosetta that is symmetric!!! And not an ounce of Perl was used!\n",
    "\n",
    "So we can do all the normal stuff like symmetric packing\n",
    "symmetric scoring, etc"
   ]
  },
  {
   "cell_type": "code",
   "execution_count": null,
   "metadata": {
    "collapsed": false
   },
   "outputs": [],
   "source": [
    "import rosetta.core.conformation.symmetry\n",
    "import rosetta.core.pose.symmetry\n",
    "from rosetta.core.scoring.symmetry import *\n",
    "import rosetta.protocols.simple_moves.symmetry\n",
    "\n",
    "\n",
    "#print p\n",
    "symopts = rosetta.core.conformation.symmetry.SymmDataOptions()\n",
    "#rosetta.core.conformation.symmetry.SymmetryInfo()\n",
    "#So rosetta sees this as a symmetric pose\n",
    "rosetta.core.conformation.symmetry.is_symmetric(p.conformation())\n",
    "\n",
    "\n",
    "sym_sfxn = rosetta.core.scoring.symmetry.SymmetricScoreFunction()\n",
    "sym_packer = protocols.simple_moves.symmetry.SymPackRotamersMover( sym_sfxn )\n",
    "sym_min = protocols.simple_moves.symmetry.SymMinMover()\n",
    "mm = MoveMap()\n",
    "core.pose.symmetry.make_symmetric_movemap( p, mm)\n",
    "#sym_packer.apply(p)\n",
    "\n",
    "# But now how do I score it?\n",
    "# and do i need to turn other options on?\n",
    "#symopts.show()"
   ]
  },
  {
   "cell_type": "code",
   "execution_count": null,
   "metadata": {
    "collapsed": false
   },
   "outputs": [],
   "source": [
    "print rosetta.core.conformation.symmetry.is_symmetric(p.conformation())"
   ]
  },
  {
   "cell_type": "markdown",
   "metadata": {},
   "source": [
    "this pyrosetta lesson was brought to you by Steve Bertolani"
   ]
  }
 ],
 "metadata": {
  "anaconda-cloud": {},
  "kernelspec": {
   "display_name": "Python 2",
   "language": "python",
   "name": "python2"
  },
  "language_info": {
   "codemirror_mode": {
    "name": "ipython",
    "version": 2
   },
   "file_extension": ".py",
   "mimetype": "text/x-python",
   "name": "python",
   "nbconvert_exporter": "python",
   "pygments_lexer": "ipython2",
   "version": "2.7.13"
  }
 },
 "nbformat": 4,
 "nbformat_minor": 0
}
